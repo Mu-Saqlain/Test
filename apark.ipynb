{
 "cells": [
  {
   "cell_type": "code",
   "execution_count": 9,
   "metadata": {},
   "outputs": [],
   "source": [
    "from pyspark.sql import SparkSession\n",
    "from pyspark.sql.types import StructField,StructType,StringType,IntegerType"
   ]
  },
  {
   "cell_type": "code",
   "execution_count": 10,
   "metadata": {},
   "outputs": [],
   "source": [
    "spark1 = SparkSession.builder.appName(\"Second\").getOrCreate()"
   ]
  },
  {
   "cell_type": "code",
   "execution_count": 11,
   "metadata": {},
   "outputs": [],
   "source": [
    "myschema = StructType([\\\n",
    "                        StructField(\"UserID\",IntegerType(),True),\n",
    "                        StructField(\"Name\",StringType(),True),\n",
    "                        StructField(\"Age\",IntegerType(),True),\n",
    "                        StructField(\"Friends\",IntegerType(),True),\n",
    "                        ])  "
   ]
  },
  {
   "cell_type": "code",
   "execution_count": 12,
   "metadata": {},
   "outputs": [
    {
     "name": "stdout",
     "output_type": "stream",
     "text": [
      "root\n",
      " |-- UserID: integer (nullable = true)\n",
      " |-- Name: string (nullable = true)\n",
      " |-- Age: integer (nullable = true)\n",
      " |-- Friends: integer (nullable = true)\n",
      "\n"
     ]
    }
   ],
   "source": [
    "peoples = spark1.read.format('csv')\\\n",
    "            .schema(myschema).load('fakefriends.csv')\n",
    "peoples.printSchema()"
   ]
  },
  {
   "cell_type": "code",
   "execution_count": 13,
   "metadata": {},
   "outputs": [
    {
     "name": "stderr",
     "output_type": "stream",
     "text": [
      "24/12/21 09:12:23 WARN CacheManager: Asked to cache already cached data.\n"
     ]
    }
   ],
   "source": [
    "output2 = peoples.select(peoples.UserID,peoples.Name,peoples.Age,peoples.Friends).\\\n",
    "        where(peoples.Age<30).\\\n",
    "        orderBy(peoples.UserID).\\\n",
    "        cache()"
   ]
  },
  {
   "cell_type": "code",
   "execution_count": 14,
   "metadata": {},
   "outputs": [
    {
     "name": "stdout",
     "output_type": "stream",
     "text": [
      "+------+--------+---+-------+\n",
      "|UserID|    Name|Age|Friends|\n",
      "+------+--------+---+-------+\n",
      "|     1|Jean-Luc| 26|      2|\n",
      "|     9|    Hugh| 27|    181|\n",
      "|    16|  Weyoun| 22|    323|\n",
      "|    21|   Miles| 19|    268|\n",
      "|    24|  Julian| 25|      1|\n",
      "|    25|     Ben| 21|    445|\n",
      "|    26|  Julian| 22|    100|\n",
      "|    32|     Nog| 26|    281|\n",
      "|    35| Beverly| 27|    305|\n",
      "|    46|    Morn| 25|     96|\n",
      "|    47|   Brunt| 24|     49|\n",
      "|    48|     Nog| 20|      1|\n",
      "|    52| Beverly| 19|    269|\n",
      "|    54|   Brunt| 19|      5|\n",
      "|    60|  Geordi| 20|    100|\n",
      "|    66|  Geordi| 21|    477|\n",
      "|    72|  Kasidy| 22|    179|\n",
      "|    73|   Brunt| 20|    384|\n",
      "|    84|     Ben| 28|    311|\n",
      "|    89|    Worf| 24|    492|\n",
      "+------+--------+---+-------+\n",
      "only showing top 20 rows\n",
      "\n"
     ]
    }
   ],
   "source": [
    "output2.show()"
   ]
  },
  {
   "cell_type": "code",
   "execution_count": 15,
   "metadata": {},
   "outputs": [
    {
     "name": "stderr",
     "output_type": "stream",
     "text": [
      "                                                                                \r"
     ]
    }
   ],
   "source": [
    "output2.write.format('json').partitionBy(\"Age\").save('output')"
   ]
  }
 ],
 "metadata": {
  "kernelspec": {
   "display_name": "Python 3",
   "language": "python",
   "name": "python3"
  },
  "language_info": {
   "codemirror_mode": {
    "name": "ipython",
    "version": 3
   },
   "file_extension": ".py",
   "mimetype": "text/x-python",
   "name": "python",
   "nbconvert_exporter": "python",
   "pygments_lexer": "ipython3",
   "version": "3.12.1"
  }
 },
 "nbformat": 4,
 "nbformat_minor": 2
}
